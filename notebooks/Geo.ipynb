{
 "cells": [
  {
   "cell_type": "code",
   "execution_count": 1,
   "id": "64d2a31f",
   "metadata": {},
   "outputs": [],
   "source": [
    "import redis\n",
    "#geosets are sorted sets"
   ]
  },
  {
   "cell_type": "code",
   "execution_count": 2,
   "id": "59244a4e",
   "metadata": {},
   "outputs": [],
   "source": [
    "r = redis.Redis()"
   ]
  },
  {
   "cell_type": "code",
   "execution_count": 4,
   "id": "982060ca",
   "metadata": {},
   "outputs": [
    {
     "data": {
      "text/plain": [
       "1"
      ]
     },
     "execution_count": 4,
     "metadata": {},
     "output_type": "execute_result"
    }
   ],
   "source": [
    "set_name = \"point_set_1\"\n",
    "lat = 16.5\n",
    "lon = -96.6\n",
    "element_name = \"point_1\"\n",
    "r.geoadd(set_name, (lon, lat, element_name))"
   ]
  },
  {
   "cell_type": "code",
   "execution_count": 5,
   "id": "5f41aece",
   "metadata": {},
   "outputs": [
    {
     "data": {
      "text/plain": [
       "1"
      ]
     },
     "execution_count": 5,
     "metadata": {},
     "output_type": "execute_result"
    }
   ],
   "source": [
    "set_name = \"point_set_1\"\n",
    "lat = 16.51\n",
    "lon = -96.6\n",
    "element_name = \"point_2\"\n",
    "r.geoadd(set_name, (lon, lat, element_name))"
   ]
  },
  {
   "cell_type": "code",
   "execution_count": 6,
   "id": "8e7de736",
   "metadata": {},
   "outputs": [
    {
     "data": {
      "text/plain": [
       "1112.2046"
      ]
     },
     "execution_count": 6,
     "metadata": {},
     "output_type": "execute_result"
    }
   ],
   "source": [
    "r.geodist(set_name, 'point_1','point_2')"
   ]
  },
  {
   "cell_type": "code",
   "execution_count": 10,
   "id": "9b5e3701",
   "metadata": {},
   "outputs": [
    {
     "data": {
      "text/plain": [
       "[b'point_2', b'point_1']"
      ]
     },
     "execution_count": 10,
     "metadata": {},
     "output_type": "execute_result"
    }
   ],
   "source": [
    "r.georadius(set_name, -96.6, 16.505, 600)"
   ]
  },
  {
   "cell_type": "code",
   "execution_count": 11,
   "id": "f51eb974",
   "metadata": {},
   "outputs": [
    {
     "data": {
      "text/plain": [
       "[b'point_2']"
      ]
     },
     "execution_count": 11,
     "metadata": {},
     "output_type": "execute_result"
    }
   ],
   "source": [
    "r.georadiusbymember(set_name, 'point_2', 600)"
   ]
  },
  {
   "cell_type": "code",
   "execution_count": 14,
   "id": "2b1279a8",
   "metadata": {},
   "outputs": [
    {
     "data": {
      "text/plain": [
       "[[b'point_2', 0.0], [b'point_1', 1112.2046]]"
      ]
     },
     "execution_count": 14,
     "metadata": {},
     "output_type": "execute_result"
    }
   ],
   "source": [
    "r.georadiusbymember(set_name, 'point_2', 1600, withdist=True , sort='ASC')"
   ]
  },
  {
   "cell_type": "code",
   "execution_count": null,
   "id": "9aaab8b5",
   "metadata": {},
   "outputs": [],
   "source": []
  }
 ],
 "metadata": {
  "kernelspec": {
   "display_name": "Python [conda env:redis-notebooks-env]",
   "language": "python",
   "name": "conda-env-redis-notebooks-env-py"
  },
  "language_info": {
   "codemirror_mode": {
    "name": "ipython",
    "version": 3
   },
   "file_extension": ".py",
   "mimetype": "text/x-python",
   "name": "python",
   "nbconvert_exporter": "python",
   "pygments_lexer": "ipython3",
   "version": "3.10.4"
  }
 },
 "nbformat": 4,
 "nbformat_minor": 5
}
