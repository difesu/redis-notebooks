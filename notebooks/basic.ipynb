{
 "cells": [
  {
   "cell_type": "code",
   "execution_count": 5,
   "id": "83290745",
   "metadata": {
    "ExecuteTime": {
     "end_time": "2022-03-22T22:22:39.397770Z",
     "start_time": "2022-03-22T22:22:39.395774Z"
    }
   },
   "outputs": [],
   "source": [
    "import redis"
   ]
  },
  {
   "cell_type": "code",
   "execution_count": 6,
   "id": "c174d285",
   "metadata": {
    "ExecuteTime": {
     "end_time": "2022-03-22T22:22:39.615072Z",
     "start_time": "2022-03-22T22:22:39.612864Z"
    }
   },
   "outputs": [],
   "source": [
    "client = redis.Redis(host='localhost',port=6379,db=0)\n"
   ]
  },
  {
   "cell_type": "markdown",
   "id": "5de77c25",
   "metadata": {
    "ExecuteTime": {
     "end_time": "2022-03-22T22:21:15.555431Z",
     "start_time": "2022-03-22T22:21:15.553715Z"
    },
    "heading_collapsed": true
   },
   "source": [
    "# Test connection"
   ]
  },
  {
   "cell_type": "code",
   "execution_count": 7,
   "id": "29f37f09",
   "metadata": {
    "ExecuteTime": {
     "end_time": "2022-03-22T22:22:40.113308Z",
     "start_time": "2022-03-22T22:22:40.105910Z"
    },
    "hidden": true
   },
   "outputs": [
    {
     "data": {
      "text/plain": [
       "True"
      ]
     },
     "execution_count": 7,
     "metadata": {},
     "output_type": "execute_result"
    }
   ],
   "source": [
    "client.ping()"
   ]
  },
  {
   "cell_type": "markdown",
   "id": "f3023b19",
   "metadata": {},
   "source": [
    "# Set / Get"
   ]
  },
  {
   "cell_type": "markdown",
   "id": "7c853cea",
   "metadata": {
    "heading_collapsed": true
   },
   "source": [
    "## Basic"
   ]
  },
  {
   "cell_type": "code",
   "execution_count": 8,
   "id": "8f7d5ac9",
   "metadata": {
    "ExecuteTime": {
     "end_time": "2022-03-22T22:22:42.995955Z",
     "start_time": "2022-03-22T22:22:42.994369Z"
    },
    "hidden": true
   },
   "outputs": [],
   "source": [
    "name='deleteme'\n",
    "value= 1"
   ]
  },
  {
   "cell_type": "code",
   "execution_count": 9,
   "id": "4cfd549b",
   "metadata": {
    "ExecuteTime": {
     "end_time": "2022-03-22T22:22:43.294554Z",
     "start_time": "2022-03-22T22:22:43.291995Z"
    },
    "hidden": true
   },
   "outputs": [
    {
     "data": {
      "text/plain": [
       "True"
      ]
     },
     "execution_count": 9,
     "metadata": {},
     "output_type": "execute_result"
    }
   ],
   "source": [
    "client.set(name,value)"
   ]
  },
  {
   "cell_type": "code",
   "execution_count": 10,
   "id": "03171152",
   "metadata": {
    "ExecuteTime": {
     "end_time": "2022-03-22T22:23:10.810263Z",
     "start_time": "2022-03-22T22:23:10.806785Z"
    },
    "hidden": true
   },
   "outputs": [
    {
     "data": {
      "text/plain": [
       "b'1'"
      ]
     },
     "execution_count": 10,
     "metadata": {},
     "output_type": "execute_result"
    }
   ],
   "source": [
    "client.get(name)"
   ]
  },
  {
   "cell_type": "markdown",
   "id": "8f7acd16",
   "metadata": {
    "ExecuteTime": {
     "end_time": "2022-03-22T22:23:54.824816Z",
     "start_time": "2022-03-22T22:23:54.822878Z"
    }
   },
   "source": [
    "## Expiration"
   ]
  },
  {
   "cell_type": "code",
   "execution_count": null,
   "id": "12c204cc",
   "metadata": {},
   "outputs": [],
   "source": [
    "name='deleteme'\n",
    "value= 1\n",
    "expiration = 3\n",
    "from time import sleep"
   ]
  },
  {
   "cell_type": "markdown",
   "id": "66abc3fd",
   "metadata": {
    "heading_collapsed": true
   },
   "source": [
    "### By TTL: seconds"
   ]
  },
  {
   "cell_type": "code",
   "execution_count": 16,
   "id": "3a000ed8",
   "metadata": {
    "ExecuteTime": {
     "end_time": "2022-03-22T22:25:15.539616Z",
     "start_time": "2022-03-22T22:25:11.532650Z"
    },
    "hidden": true
   },
   "outputs": [
    {
     "name": "stdout",
     "output_type": "stream",
     "text": [
      "b'1'\n",
      "b'1'\n",
      "b'1'\n",
      "None\n"
     ]
    }
   ],
   "source": [
    "client.set(name=name,value=value,ex=expiration)\n",
    "for i in range(4):\n",
    "    print(client.get(name))\n",
    "    sleep(1)\n"
   ]
  },
  {
   "cell_type": "markdown",
   "id": "55197e61",
   "metadata": {
    "ExecuteTime": {
     "end_time": "2022-03-22T22:25:40.320560Z",
     "start_time": "2022-03-22T22:25:40.318329Z"
    },
    "heading_collapsed": true
   },
   "source": [
    "### By TTL: millis"
   ]
  },
  {
   "cell_type": "code",
   "execution_count": 19,
   "id": "7d29539e",
   "metadata": {
    "ExecuteTime": {
     "end_time": "2022-03-22T22:26:32.540784Z",
     "start_time": "2022-03-22T22:26:32.533231Z"
    },
    "hidden": true
   },
   "outputs": [
    {
     "name": "stdout",
     "output_type": "stream",
     "text": [
      "b'1'\n",
      "b'1'\n",
      "b'1'\n",
      "None\n"
     ]
    }
   ],
   "source": [
    "client.set(name=name,value=value,px=expiration)\n",
    "for i in range(4):\n",
    "    print(client.get(name))\n",
    "    sleep(.001)\n"
   ]
  },
  {
   "cell_type": "markdown",
   "id": "5ec55c21",
   "metadata": {
    "heading_collapsed": true
   },
   "source": [
    "### By Timestamp: seconds"
   ]
  },
  {
   "cell_type": "code",
   "execution_count": 21,
   "id": "e73074f6",
   "metadata": {
    "ExecuteTime": {
     "end_time": "2022-03-22T22:28:19.673201Z",
     "start_time": "2022-03-22T22:28:19.671352Z"
    },
    "hidden": true
   },
   "outputs": [],
   "source": [
    "from datetime import datetime , timedelta\n",
    "now = datetime.now"
   ]
  },
  {
   "cell_type": "code",
   "execution_count": 23,
   "id": "236f0ef1",
   "metadata": {
    "ExecuteTime": {
     "end_time": "2022-03-22T22:28:49.779465Z",
     "start_time": "2022-03-22T22:28:45.769813Z"
    },
    "hidden": true
   },
   "outputs": [
    {
     "name": "stdout",
     "output_type": "stream",
     "text": [
      "b'1'\n",
      "b'1'\n",
      "b'1'\n",
      "None\n"
     ]
    }
   ],
   "source": [
    "expiration = now() + timedelta(seconds=3)\n",
    "client.set(name=name,value=value,exat=expiration)\n",
    "for i in range(4):\n",
    "    print(client.get(name))\n",
    "    sleep(1)\n"
   ]
  },
  {
   "cell_type": "markdown",
   "id": "fcb73ae1",
   "metadata": {
    "heading_collapsed": true
   },
   "source": [
    "### By Timestamp: millis"
   ]
  },
  {
   "cell_type": "code",
   "execution_count": 24,
   "id": "d9efb55b",
   "metadata": {
    "ExecuteTime": {
     "end_time": "2022-03-22T22:29:39.295783Z",
     "start_time": "2022-03-22T22:29:39.288439Z"
    },
    "hidden": true
   },
   "outputs": [
    {
     "name": "stdout",
     "output_type": "stream",
     "text": [
      "b'1'\n",
      "b'1'\n",
      "b'1'\n",
      "None\n"
     ]
    }
   ],
   "source": [
    "expiration = now() + timedelta(milliseconds=3)\n",
    "client.set(name=name,value=value,pxat=expiration)\n",
    "for i in range(4):\n",
    "    print(client.get(name))\n",
    "    sleep(.001)\n"
   ]
  },
  {
   "cell_type": "markdown",
   "id": "c70ef7f6",
   "metadata": {
    "heading_collapsed": true
   },
   "source": [
    "### Set TTL > Update Value (do not modify ttl)"
   ]
  },
  {
   "cell_type": "code",
   "execution_count": 36,
   "id": "332b553d",
   "metadata": {
    "ExecuteTime": {
     "end_time": "2022-03-22T23:37:44.519064Z",
     "start_time": "2022-03-22T23:37:44.515886Z"
    },
    "hidden": true
   },
   "outputs": [
    {
     "name": "stdout",
     "output_type": "stream",
     "text": [
      "b'1'\n",
      "b'2'\n"
     ]
    }
   ],
   "source": [
    "expiration = now() + timedelta(milliseconds=3)\n",
    "name='deleteme'\n",
    "client.set(name=name,value=value,pxat=expiration)\n",
    "print(client.get(name))\n",
    "client.set(name=name,value=value+1,keepttl=True)\n",
    "for i in range(4):\n",
    "    print(client.get(name))\n",
    "    exp_info=client.getex(name=name)\n",
    "    break\n",
    "    print(f'expiration:{exp_info}')\n",
    "    sleep(.001)\n"
   ]
  },
  {
   "cell_type": "markdown",
   "id": "c7906355",
   "metadata": {
    "ExecuteTime": {
     "end_time": "2022-03-22T23:37:47.109401Z",
     "start_time": "2022-03-22T23:37:47.107284Z"
    },
    "heading_collapsed": true
   },
   "source": [
    "### Set TTL > Read and Update TTL\n",
    "warning: seems not to be returning the value. returns b'2' (redis-py '4.1.4')"
   ]
  },
  {
   "cell_type": "code",
   "execution_count": 64,
   "id": "b77c4f66",
   "metadata": {
    "ExecuteTime": {
     "end_time": "2022-03-23T00:20:11.015309Z",
     "start_time": "2022-03-23T00:20:10.004203Z"
    },
    "hidden": true
   },
   "outputs": [
    {
     "name": "stdout",
     "output_type": "stream",
     "text": [
      "expiration:b'2' b'111'\n",
      "expiration:b'2' b'111'\n",
      "expiration:b'2' b'111'\n",
      "expiration:b'2' b'111'\n",
      "None\n",
      "expiration:b'2' None\n"
     ]
    }
   ],
   "source": [
    "name='deleteme'\n",
    "value=111\n",
    "expiration=now() + timedelta(milliseconds=3)\n",
    "client.set(name=name,value=value,pxat=expiration)\n",
    "for i in range(4):\n",
    "    expiration = now() + timedelta(milliseconds=1)\n",
    "    response=client.getex(name=name,pxat=now() + timedelta(milliseconds=3))\n",
    "    print(f'expiration:{exp_info}',client.get(name=name))\n",
    "    sleep(.001)\n",
    "\n",
    "sleep(1)\n",
    "print(client.get(name=name))\n",
    "\n",
    "response=client.getex(name=name,pxat=now() + timedelta(milliseconds=3))\n",
    "print(f'expiration:{exp_info}',client.get(name=name))"
   ]
  },
  {
   "cell_type": "markdown",
   "id": "33549227",
   "metadata": {
    "heading_collapsed": true,
    "hidden": true
   },
   "source": [
    "#### Alternative\n"
   ]
  },
  {
   "cell_type": "code",
   "execution_count": 61,
   "id": "21cf7aed",
   "metadata": {
    "ExecuteTime": {
     "end_time": "2022-03-23T00:18:26.816315Z",
     "start_time": "2022-03-23T00:18:23.809881Z"
    },
    "hidden": true
   },
   "outputs": [
    {
     "name": "stdout",
     "output_type": "stream",
     "text": [
      "b'123'\n",
      "None\n"
     ]
    }
   ],
   "source": [
    "client.execute_command('SET',b'deleteme',b'123')\n",
    "response=client.execute_command('GETEX',b'deleteme','EX',3)\n",
    "print(response)\n",
    "sleep(3)\n",
    "response = client.execute_command('GET',b'deleteme')\n",
    "print(response)"
   ]
  },
  {
   "cell_type": "code",
   "execution_count": 62,
   "id": "e8fc6d85",
   "metadata": {
    "ExecuteTime": {
     "end_time": "2022-03-23T00:19:21.914316Z",
     "start_time": "2022-03-23T00:19:20.910067Z"
    },
    "hidden": true
   },
   "outputs": [
    {
     "name": "stdout",
     "output_type": "stream",
     "text": [
      "b'123'\n",
      "None\n"
     ]
    }
   ],
   "source": [
    "client.execute_command('SET',b'deleteme',b'123')\n",
    "response=client.execute_command('GETEX',b'deleteme','pxat',3)\n",
    "print(response)\n",
    "sleep(1)\n",
    "response = client.execute_command('GET',b'deleteme')\n",
    "print(response)"
   ]
  },
  {
   "cell_type": "markdown",
   "id": "ebcbab9c",
   "metadata": {
    "heading_collapsed": true
   },
   "source": [
    "### Remove expiration"
   ]
  },
  {
   "cell_type": "code",
   "execution_count": 65,
   "id": "853960e1",
   "metadata": {
    "ExecuteTime": {
     "end_time": "2022-03-23T00:36:08.293256Z",
     "start_time": "2022-03-23T00:36:08.288865Z"
    },
    "hidden": true
   },
   "outputs": [
    {
     "name": "stdout",
     "output_type": "stream",
     "text": [
      "3\n",
      "-1\n"
     ]
    }
   ],
   "source": [
    "value=1\n",
    "name='deleteme'\n",
    "expiration=3\n",
    "client.set(name,value,ex=expiration)\n",
    "print(client.ttl(name))\n",
    "client.persist(name=name)\n",
    "print(client.ttl(name))"
   ]
  },
  {
   "cell_type": "markdown",
   "id": "b99df465",
   "metadata": {},
   "source": [
    "## "
   ]
  }
 ],
 "metadata": {
  "kernelspec": {
   "display_name": "Python [conda env:redis-notebooks]",
   "language": "python",
   "name": "conda-env-redis-notebooks-py"
  },
  "language_info": {
   "codemirror_mode": {
    "name": "ipython",
    "version": 3
   },
   "file_extension": ".py",
   "mimetype": "text/x-python",
   "name": "python",
   "nbconvert_exporter": "python",
   "pygments_lexer": "ipython3",
   "version": "3.10.0"
  },
  "toc": {
   "base_numbering": 1,
   "nav_menu": {},
   "number_sections": true,
   "sideBar": true,
   "skip_h1_title": false,
   "title_cell": "Table of Contents",
   "title_sidebar": "Contents",
   "toc_cell": false,
   "toc_position": {},
   "toc_section_display": true,
   "toc_window_display": false
  }
 },
 "nbformat": 4,
 "nbformat_minor": 5
}
