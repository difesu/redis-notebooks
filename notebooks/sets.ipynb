{
 "cells": [
  {
   "cell_type": "code",
   "execution_count": 1,
   "id": "737047b5",
   "metadata": {
    "ExecuteTime": {
     "end_time": "2022-03-23T23:53:34.294559Z",
     "start_time": "2022-03-23T23:53:34.269455Z"
    }
   },
   "outputs": [],
   "source": [
    "import redis"
   ]
  },
  {
   "cell_type": "code",
   "execution_count": 2,
   "id": "a191284a",
   "metadata": {
    "ExecuteTime": {
     "end_time": "2022-03-23T23:53:34.482919Z",
     "start_time": "2022-03-23T23:53:34.480916Z"
    }
   },
   "outputs": [],
   "source": [
    "client = redis.Redis(host='localhost',port=6379,db=0)\n"
   ]
  },
  {
   "cell_type": "markdown",
   "id": "19bd5c3b",
   "metadata": {},
   "source": [
    "# Sets Get/Set"
   ]
  },
  {
   "cell_type": "code",
   "execution_count": 8,
   "id": "7899ac57",
   "metadata": {
    "ExecuteTime": {
     "end_time": "2022-03-24T00:02:04.783206Z",
     "start_time": "2022-03-24T00:02:04.780388Z"
    }
   },
   "outputs": [
    {
     "data": {
      "text/plain": [
       "0"
      ]
     },
     "execution_count": 8,
     "metadata": {},
     "output_type": "execute_result"
    }
   ],
   "source": [
    "name='deleteme_set'\n",
    "value=1\n",
    "client.sadd(name,value)\n",
    "client.sadd(name,value+1)\n",
    "client.sadd(name,value)"
   ]
  },
  {
   "cell_type": "markdown",
   "id": "786fc29d",
   "metadata": {},
   "source": [
    "## Number of elements"
   ]
  },
  {
   "cell_type": "code",
   "execution_count": 10,
   "id": "73e5f0e6",
   "metadata": {
    "ExecuteTime": {
     "end_time": "2022-03-24T00:02:15.576853Z",
     "start_time": "2022-03-24T00:02:15.574231Z"
    }
   },
   "outputs": [
    {
     "data": {
      "text/plain": [
       "2"
      ]
     },
     "execution_count": 10,
     "metadata": {},
     "output_type": "execute_result"
    }
   ],
   "source": [
    "client.scard(name)"
   ]
  },
  {
   "cell_type": "markdown",
   "id": "485df4f1",
   "metadata": {
    "ExecuteTime": {
     "end_time": "2022-03-24T00:02:41.145464Z",
     "start_time": "2022-03-24T00:02:41.143726Z"
    }
   },
   "source": [
    "## Get Members"
   ]
  },
  {
   "cell_type": "code",
   "execution_count": 15,
   "id": "eacdf317",
   "metadata": {
    "ExecuteTime": {
     "end_time": "2022-03-24T00:04:12.235641Z",
     "start_time": "2022-03-24T00:04:12.232932Z"
    }
   },
   "outputs": [
    {
     "data": {
      "text/plain": [
       "{b'1', b'2', b'4'}"
      ]
     },
     "execution_count": 15,
     "metadata": {},
     "output_type": "execute_result"
    }
   ],
   "source": [
    "client.smembers(name)"
   ]
  },
  {
   "cell_type": "markdown",
   "id": "8b1413bb",
   "metadata": {
    "heading_collapsed": true
   },
   "source": [
    "## Operations"
   ]
  },
  {
   "cell_type": "code",
   "execution_count": 27,
   "id": "0f6a453b",
   "metadata": {
    "ExecuteTime": {
     "end_time": "2022-03-24T00:17:48.096261Z",
     "start_time": "2022-03-24T00:17:48.093502Z"
    },
    "hidden": true
   },
   "outputs": [
    {
     "data": {
      "text/plain": [
       "1"
      ]
     },
     "execution_count": 27,
     "metadata": {},
     "output_type": "execute_result"
    }
   ],
   "source": [
    "client.delete(name)"
   ]
  },
  {
   "cell_type": "markdown",
   "id": "48024dc3",
   "metadata": {
    "heading_collapsed": true,
    "hidden": true
   },
   "source": [
    "### Intersection"
   ]
  },
  {
   "cell_type": "code",
   "execution_count": 47,
   "id": "501faf9e",
   "metadata": {
    "ExecuteTime": {
     "end_time": "2022-03-24T00:23:38.350760Z",
     "start_time": "2022-03-24T00:23:38.345677Z"
    },
    "hidden": true
   },
   "outputs": [
    {
     "data": {
      "text/plain": [
       "0"
      ]
     },
     "execution_count": 47,
     "metadata": {},
     "output_type": "execute_result"
    }
   ],
   "source": [
    "name='deleteme_set'\n",
    "value=1\n",
    "client.sadd(name,value)\n",
    "client.sadd(name,value+1)\n",
    "\n",
    "name2='deleteme_set_2'\n",
    "client.sadd(name2,value)\n",
    "client.sadd(name2,value+3)\n"
   ]
  },
  {
   "cell_type": "code",
   "execution_count": 35,
   "id": "42dfac00",
   "metadata": {
    "ExecuteTime": {
     "end_time": "2022-03-24T00:20:25.839665Z",
     "start_time": "2022-03-24T00:20:25.837388Z"
    },
    "hidden": true
   },
   "outputs": [
    {
     "data": {
      "text/plain": [
       "{b'1'}"
      ]
     },
     "execution_count": 35,
     "metadata": {},
     "output_type": "execute_result"
    }
   ],
   "source": [
    "client.sinter(name,name2)"
   ]
  },
  {
   "cell_type": "markdown",
   "id": "4cfb23fe",
   "metadata": {
    "hidden": true
   },
   "source": [
    "### Union "
   ]
  },
  {
   "cell_type": "code",
   "execution_count": 36,
   "id": "0a21e36b",
   "metadata": {
    "ExecuteTime": {
     "end_time": "2022-03-24T00:20:28.178620Z",
     "start_time": "2022-03-24T00:20:28.175857Z"
    },
    "hidden": true
   },
   "outputs": [
    {
     "data": {
      "text/plain": [
       "{b'1', b'2', b'4'}"
      ]
     },
     "execution_count": 36,
     "metadata": {},
     "output_type": "execute_result"
    }
   ],
   "source": [
    "client.sunion(name,name2)"
   ]
  },
  {
   "cell_type": "markdown",
   "id": "aefa4f94",
   "metadata": {
    "hidden": true
   },
   "source": [
    "### Store result"
   ]
  },
  {
   "cell_type": "code",
   "execution_count": 20,
   "id": "33346427",
   "metadata": {
    "ExecuteTime": {
     "end_time": "2022-03-24T00:07:56.232773Z",
     "start_time": "2022-03-24T00:07:56.229533Z"
    },
    "hidden": true
   },
   "outputs": [
    {
     "data": {
      "text/plain": [
       "1"
      ]
     },
     "execution_count": 20,
     "metadata": {},
     "output_type": "execute_result"
    }
   ],
   "source": [
    "target_name='daleteme_set_inter'\n",
    "client.sinterstore(target_name,name,name2)"
   ]
  },
  {
   "cell_type": "code",
   "execution_count": 23,
   "id": "5b3ebaef",
   "metadata": {
    "ExecuteTime": {
     "end_time": "2022-03-24T00:08:16.356097Z",
     "start_time": "2022-03-24T00:08:16.353556Z"
    },
    "hidden": true
   },
   "outputs": [
    {
     "data": {
      "text/plain": [
       "{b'1'}"
      ]
     },
     "execution_count": 23,
     "metadata": {},
     "output_type": "execute_result"
    }
   ],
   "source": [
    "client.smembers(target_name)"
   ]
  },
  {
   "cell_type": "code",
   "execution_count": null,
   "id": "769da414",
   "metadata": {
    "hidden": true
   },
   "outputs": [],
   "source": []
  },
  {
   "cell_type": "markdown",
   "id": "450addf1",
   "metadata": {
    "heading_collapsed": true
   },
   "source": [
    "## Is Member"
   ]
  },
  {
   "cell_type": "code",
   "execution_count": 24,
   "id": "cd435a06",
   "metadata": {
    "ExecuteTime": {
     "end_time": "2022-03-24T00:10:42.118175Z",
     "start_time": "2022-03-24T00:10:42.114911Z"
    },
    "hidden": true
   },
   "outputs": [
    {
     "data": {
      "text/plain": [
       "True"
      ]
     },
     "execution_count": 24,
     "metadata": {},
     "output_type": "execute_result"
    }
   ],
   "source": [
    "client.sismember(name,1)"
   ]
  },
  {
   "cell_type": "markdown",
   "id": "e3b3672f",
   "metadata": {
    "heading_collapsed": true
   },
   "source": [
    "## Remove"
   ]
  },
  {
   "cell_type": "code",
   "execution_count": 25,
   "id": "0d33961d",
   "metadata": {
    "ExecuteTime": {
     "end_time": "2022-03-24T00:10:54.323022Z",
     "start_time": "2022-03-24T00:10:54.319236Z"
    },
    "hidden": true
   },
   "outputs": [
    {
     "data": {
      "text/plain": [
       "1"
      ]
     },
     "execution_count": 25,
     "metadata": {},
     "output_type": "execute_result"
    }
   ],
   "source": [
    "client.srem(name,1)"
   ]
  },
  {
   "cell_type": "code",
   "execution_count": 37,
   "id": "0ee5fea6",
   "metadata": {
    "ExecuteTime": {
     "end_time": "2022-03-24T00:20:32.333328Z",
     "start_time": "2022-03-24T00:20:32.329911Z"
    },
    "hidden": true
   },
   "outputs": [
    {
     "data": {
      "text/plain": [
       "True"
      ]
     },
     "execution_count": 37,
     "metadata": {},
     "output_type": "execute_result"
    }
   ],
   "source": [
    "client.sismember(name,1)"
   ]
  },
  {
   "cell_type": "markdown",
   "id": "79dd5f32",
   "metadata": {
    "heading_collapsed": true
   },
   "source": [
    "## Get Random Member"
   ]
  },
  {
   "cell_type": "code",
   "execution_count": 41,
   "id": "26545eed",
   "metadata": {
    "ExecuteTime": {
     "end_time": "2022-03-24T00:20:42.696481Z",
     "start_time": "2022-03-24T00:20:42.693573Z"
    },
    "hidden": true
   },
   "outputs": [
    {
     "data": {
      "text/plain": [
       "[b'1']"
      ]
     },
     "execution_count": 41,
     "metadata": {},
     "output_type": "execute_result"
    }
   ],
   "source": [
    "client.srandmember(name,number=1)"
   ]
  },
  {
   "cell_type": "markdown",
   "id": "6b46d232",
   "metadata": {
    "ExecuteTime": {
     "end_time": "2022-03-24T00:20:51.000555Z",
     "start_time": "2022-03-24T00:20:50.998330Z"
    },
    "hidden": true
   },
   "source": [
    "### Only one without list"
   ]
  },
  {
   "cell_type": "code",
   "execution_count": 44,
   "id": "c87b1380",
   "metadata": {
    "ExecuteTime": {
     "end_time": "2022-03-24T00:21:56.942462Z",
     "start_time": "2022-03-24T00:21:56.939459Z"
    },
    "hidden": true
   },
   "outputs": [
    {
     "data": {
      "text/plain": [
       "b'1'"
      ]
     },
     "execution_count": 44,
     "metadata": {},
     "output_type": "execute_result"
    }
   ],
   "source": [
    "client.srandmember(name,number=None)"
   ]
  },
  {
   "cell_type": "markdown",
   "id": "ca1d162b",
   "metadata": {},
   "source": [
    "## Pop N (get and remove N random members)"
   ]
  },
  {
   "cell_type": "code",
   "execution_count": 45,
   "id": "324a5134",
   "metadata": {
    "ExecuteTime": {
     "end_time": "2022-03-24T00:22:22.238198Z",
     "start_time": "2022-03-24T00:22:22.235442Z"
    }
   },
   "outputs": [
    {
     "data": {
      "text/plain": [
       "[b'2']"
      ]
     },
     "execution_count": 45,
     "metadata": {},
     "output_type": "execute_result"
    }
   ],
   "source": [
    "client.spop(name,count=1)"
   ]
  },
  {
   "cell_type": "markdown",
   "id": "5198b0a1",
   "metadata": {},
   "source": [
    "### Pop 1 without list return "
   ]
  },
  {
   "cell_type": "code",
   "execution_count": 46,
   "id": "012bbd00",
   "metadata": {
    "ExecuteTime": {
     "end_time": "2022-03-24T00:22:33.015400Z",
     "start_time": "2022-03-24T00:22:33.012805Z"
    }
   },
   "outputs": [
    {
     "data": {
      "text/plain": [
       "b'1'"
      ]
     },
     "execution_count": 46,
     "metadata": {},
     "output_type": "execute_result"
    }
   ],
   "source": [
    "client.spop(name,count=None)"
   ]
  },
  {
   "cell_type": "markdown",
   "id": "5348a42a",
   "metadata": {},
   "source": [
    "# Sorted Sets Get/Set"
   ]
  },
  {
   "cell_type": "markdown",
   "id": "6d37bb63",
   "metadata": {},
   "source": [
    "## Basic"
   ]
  },
  {
   "cell_type": "code",
   "execution_count": 64,
   "id": "1890998a",
   "metadata": {
    "ExecuteTime": {
     "end_time": "2022-03-25T03:50:20.109297Z",
     "start_time": "2022-03-25T03:50:20.106553Z"
    }
   },
   "outputs": [
    {
     "data": {
      "text/plain": [
       "0"
      ]
     },
     "execution_count": 64,
     "metadata": {},
     "output_type": "execute_result"
    }
   ],
   "source": [
    "name='deleteme_zet'\n",
    "key= \"a\"\n",
    "value= 1 #must be parseable to float\n",
    "client.zadd(name,{key:value})\n"
   ]
  },
  {
   "cell_type": "code",
   "execution_count": 65,
   "id": "d76c0c1e",
   "metadata": {
    "ExecuteTime": {
     "end_time": "2022-03-25T03:50:28.060937Z",
     "start_time": "2022-03-25T03:50:28.059050Z"
    }
   },
   "outputs": [],
   "source": [
    "from string import ascii_letters"
   ]
  },
  {
   "cell_type": "code",
   "execution_count": 77,
   "id": "bf6bb1f3",
   "metadata": {
    "ExecuteTime": {
     "end_time": "2022-03-25T03:55:47.653822Z",
     "start_time": "2022-03-25T03:55:47.649714Z"
    }
   },
   "outputs": [
    {
     "data": {
      "text/plain": [
       "52"
      ]
     },
     "execution_count": 77,
     "metadata": {},
     "output_type": "execute_result"
    }
   ],
   "source": [
    "client.zadd(name,dict(zip(ascii_letters,range(len(ascii_letters)))))"
   ]
  },
  {
   "cell_type": "markdown",
   "id": "e1eeb503",
   "metadata": {},
   "source": [
    "## Get and remove (pop) Max"
   ]
  },
  {
   "cell_type": "code",
   "execution_count": 78,
   "id": "bb49c5dc",
   "metadata": {
    "ExecuteTime": {
     "end_time": "2022-03-25T03:55:54.693410Z",
     "start_time": "2022-03-25T03:55:54.690164Z"
    }
   },
   "outputs": [
    {
     "data": {
      "text/plain": [
       "[(b'Z', 51.0)]"
      ]
     },
     "execution_count": 78,
     "metadata": {},
     "output_type": "execute_result"
    }
   ],
   "source": [
    "client.zpopmax(name)"
   ]
  },
  {
   "cell_type": "markdown",
   "id": "73665918",
   "metadata": {},
   "source": [
    "## Get Cardinality"
   ]
  },
  {
   "cell_type": "code",
   "execution_count": 67,
   "id": "425f9770",
   "metadata": {
    "ExecuteTime": {
     "end_time": "2022-03-25T03:51:11.450511Z",
     "start_time": "2022-03-25T03:51:11.447972Z"
    }
   },
   "outputs": [
    {
     "data": {
      "text/plain": [
       "52"
      ]
     },
     "execution_count": 67,
     "metadata": {},
     "output_type": "execute_result"
    }
   ],
   "source": [
    "client.zcard(name)"
   ]
  },
  {
   "cell_type": "markdown",
   "id": "367ebadf",
   "metadata": {},
   "source": [
    "## Count elements with score between min and max"
   ]
  },
  {
   "cell_type": "code",
   "execution_count": 69,
   "id": "ffa9e810",
   "metadata": {
    "ExecuteTime": {
     "end_time": "2022-03-25T03:52:08.585499Z",
     "start_time": "2022-03-25T03:52:08.582827Z"
    }
   },
   "outputs": [
    {
     "data": {
      "text/plain": [
       "38"
      ]
     },
     "execution_count": 69,
     "metadata": {},
     "output_type": "execute_result"
    }
   ],
   "source": [
    "client.zcount(name,min=3,max=40)"
   ]
  },
  {
   "cell_type": "markdown",
   "id": "5b87575d",
   "metadata": {},
   "source": [
    "## Count elements lexicographicaly between min and max\n",
    "\n",
    "From redis docs:\n",
    "Valid start and stop must start with ( or [, in order to specify if the range item is respectively exclusive or inclusive. The special values of + or - for start and stop have the special meaning or positively infinite and negatively infinite strings, so for instance the command ZRANGEBYLEX myzset - + is guaranteed to return all the elements in the sorted set, if all the elements have the same score.\n",
    "\n"
   ]
  },
  {
   "cell_type": "code",
   "execution_count": 96,
   "id": "d30feade",
   "metadata": {
    "ExecuteTime": {
     "end_time": "2022-03-25T04:08:15.122587Z",
     "start_time": "2022-03-25T04:08:15.119466Z"
    }
   },
   "outputs": [
    {
     "data": {
      "text/plain": [
       "51"
      ]
     },
     "execution_count": 96,
     "metadata": {},
     "output_type": "execute_result"
    }
   ],
   "source": [
    "client.zlexcount(name,\"-\",\"+\")"
   ]
  },
  {
   "cell_type": "code",
   "execution_count": 102,
   "id": "b3a768ca",
   "metadata": {
    "ExecuteTime": {
     "end_time": "2022-03-25T04:08:58.026726Z",
     "start_time": "2022-03-25T04:08:58.024213Z"
    }
   },
   "outputs": [
    {
     "data": {
      "text/plain": [
       "2"
      ]
     },
     "execution_count": 102,
     "metadata": {},
     "output_type": "execute_result"
    }
   ],
   "source": [
    "client.zlexcount(name,\"-\",\"[b\")"
   ]
  },
  {
   "cell_type": "code",
   "execution_count": 115,
   "id": "68526dc4",
   "metadata": {
    "ExecuteTime": {
     "end_time": "2022-03-25T04:11:08.105367Z",
     "start_time": "2022-03-25T04:11:08.102508Z"
    }
   },
   "outputs": [
    {
     "data": {
      "text/plain": [
       "0"
      ]
     },
     "execution_count": 115,
     "metadata": {},
     "output_type": "execute_result"
    }
   ],
   "source": [
    "client.zlexcount(name,\"[b\",\"+\") #not sure how this is working. I think is not working "
   ]
  },
  {
   "cell_type": "code",
   "execution_count": 116,
   "id": "72c684ed",
   "metadata": {
    "ExecuteTime": {
     "end_time": "2022-03-25T04:11:40.766949Z",
     "start_time": "2022-03-25T04:11:40.764677Z"
    }
   },
   "outputs": [
    {
     "data": {
      "text/plain": [
       "'deleteme_zet'"
      ]
     },
     "execution_count": 116,
     "metadata": {},
     "output_type": "execute_result"
    }
   ],
   "source": [
    "name"
   ]
  },
  {
   "cell_type": "markdown",
   "id": "d1b7428a",
   "metadata": {},
   "source": [
    "## Get Scores of some elements (that might not be in the zet)"
   ]
  },
  {
   "cell_type": "code",
   "execution_count": 82,
   "id": "f380035a",
   "metadata": {
    "ExecuteTime": {
     "end_time": "2022-03-25T03:56:40.192388Z",
     "start_time": "2022-03-25T03:56:40.189096Z"
    }
   },
   "outputs": [
    {
     "data": {
      "text/plain": [
       "[0.0, None]"
      ]
     },
     "execution_count": 82,
     "metadata": {},
     "output_type": "execute_result"
    }
   ],
   "source": [
    "client.zmscore(name,['a','calabaza'])"
   ]
  },
  {
   "cell_type": "markdown",
   "id": "11aa5da5",
   "metadata": {},
   "source": [
    "## Random"
   ]
  },
  {
   "cell_type": "code",
   "execution_count": 84,
   "id": "43a53189",
   "metadata": {
    "ExecuteTime": {
     "end_time": "2022-03-25T03:58:15.766557Z",
     "start_time": "2022-03-25T03:58:15.763940Z"
    }
   },
   "outputs": [
    {
     "data": {
      "text/plain": [
       "b'w'"
      ]
     },
     "execution_count": 84,
     "metadata": {},
     "output_type": "execute_result"
    }
   ],
   "source": [
    "client.zrandmember(name)"
   ]
  },
  {
   "cell_type": "markdown",
   "id": "4310919f",
   "metadata": {},
   "source": [
    "### With Score"
   ]
  },
  {
   "cell_type": "code",
   "execution_count": 86,
   "id": "c25e6fb1",
   "metadata": {
    "ExecuteTime": {
     "end_time": "2022-03-25T03:58:39.500540Z",
     "start_time": "2022-03-25T03:58:39.497779Z"
    }
   },
   "outputs": [
    {
     "data": {
      "text/plain": [
       "[b'p', b'15', b'V', b'47']"
      ]
     },
     "execution_count": 86,
     "metadata": {},
     "output_type": "execute_result"
    }
   ],
   "source": [
    "client.zrandmember(name,count=2,withscores=True)"
   ]
  },
  {
   "cell_type": "markdown",
   "id": "9c9ca0eb",
   "metadata": {},
   "source": [
    "## Increment Score\n"
   ]
  },
  {
   "cell_type": "code",
   "execution_count": 87,
   "id": "759b3238",
   "metadata": {
    "ExecuteTime": {
     "end_time": "2022-03-25T03:59:06.701236Z",
     "start_time": "2022-03-25T03:59:06.698421Z"
    }
   },
   "outputs": [
    {
     "data": {
      "text/plain": [
       "16.0"
      ]
     },
     "execution_count": 87,
     "metadata": {},
     "output_type": "execute_result"
    }
   ],
   "source": [
    "client.zincrby(name,1,\"p\") #returns new score"
   ]
  },
  {
   "cell_type": "markdown",
   "id": "2b9e967b",
   "metadata": {},
   "source": [
    "##  Get all"
   ]
  },
  {
   "cell_type": "code",
   "execution_count": 123,
   "id": "0bb37e8b",
   "metadata": {
    "ExecuteTime": {
     "end_time": "2022-03-25T04:18:09.891213Z",
     "start_time": "2022-03-25T04:18:09.886168Z"
    },
    "collapsed": true
   },
   "outputs": [
    {
     "data": {
      "text/plain": [
       "(0,\n",
       " [(b'a', 0.0),\n",
       "  (b'b', 1.0),\n",
       "  (b'c', 2.0),\n",
       "  (b'd', 3.0),\n",
       "  (b'e', 4.0),\n",
       "  (b'f', 5.0),\n",
       "  (b'g', 6.0),\n",
       "  (b'h', 7.0),\n",
       "  (b'i', 8.0),\n",
       "  (b'j', 9.0),\n",
       "  (b'k', 10.0),\n",
       "  (b'l', 11.0),\n",
       "  (b'm', 12.0),\n",
       "  (b'n', 13.0),\n",
       "  (b'o', 14.0),\n",
       "  (b'p', 16.0),\n",
       "  (b'q', 16.0),\n",
       "  (b'r', 17.0),\n",
       "  (b's', 18.0),\n",
       "  (b't', 19.0),\n",
       "  (b'u', 20.0),\n",
       "  (b'v', 21.0),\n",
       "  (b'w', 22.0),\n",
       "  (b'x', 23.0),\n",
       "  (b'y', 24.0),\n",
       "  (b'z', 25.0),\n",
       "  (b'A', 26.0),\n",
       "  (b'B', 27.0),\n",
       "  (b'C', 28.0),\n",
       "  (b'D', 29.0),\n",
       "  (b'E', 30.0),\n",
       "  (b'F', 31.0),\n",
       "  (b'G', 32.0),\n",
       "  (b'H', 33.0),\n",
       "  (b'I', 34.0),\n",
       "  (b'J', 35.0),\n",
       "  (b'K', 36.0),\n",
       "  (b'L', 37.0),\n",
       "  (b'M', 38.0),\n",
       "  (b'N', 39.0),\n",
       "  (b'O', 40.0),\n",
       "  (b'P', 41.0),\n",
       "  (b'Q', 42.0),\n",
       "  (b'R', 43.0),\n",
       "  (b'S', 44.0),\n",
       "  (b'T', 45.0),\n",
       "  (b'U', 46.0),\n",
       "  (b'V', 47.0),\n",
       "  (b'W', 48.0),\n",
       "  (b'X', 49.0),\n",
       "  (b'Y', 50.0)])"
      ]
     },
     "execution_count": 123,
     "metadata": {},
     "output_type": "execute_result"
    }
   ],
   "source": [
    "client.zscan(name,cursor=0)"
   ]
  },
  {
   "cell_type": "markdown",
   "id": "33a6982c",
   "metadata": {
    "ExecuteTime": {
     "end_time": "2022-03-25T04:19:32.774330Z",
     "start_time": "2022-03-25T04:19:32.771724Z"
    }
   },
   "source": [
    "## Remove element"
   ]
  },
  {
   "cell_type": "code",
   "execution_count": 126,
   "id": "612ccf1c",
   "metadata": {
    "ExecuteTime": {
     "end_time": "2022-03-25T04:20:06.479931Z",
     "start_time": "2022-03-25T04:20:06.477473Z"
    }
   },
   "outputs": [
    {
     "data": {
      "text/plain": [
       "1"
      ]
     },
     "execution_count": 126,
     "metadata": {},
     "output_type": "execute_result"
    }
   ],
   "source": [
    "client.zrem(name,\"b\")"
   ]
  },
  {
   "cell_type": "code",
   "execution_count": 127,
   "id": "688d9d94",
   "metadata": {
    "ExecuteTime": {
     "end_time": "2022-03-25T04:20:24.513680Z",
     "start_time": "2022-03-25T04:20:24.510859Z"
    }
   },
   "outputs": [
    {
     "data": {
      "text/plain": [
       "6"
      ]
     },
     "execution_count": 127,
     "metadata": {},
     "output_type": "execute_result"
    }
   ],
   "source": [
    "client.zremrangebyrank(name,0,5,)"
   ]
  },
  {
   "cell_type": "markdown",
   "id": "2481694a",
   "metadata": {},
   "source": [
    "## Get Top N  or Bottom M"
   ]
  },
  {
   "cell_type": "code",
   "execution_count": 130,
   "id": "047a2b7e",
   "metadata": {
    "ExecuteTime": {
     "end_time": "2022-03-25T04:22:16.871797Z",
     "start_time": "2022-03-25T04:22:16.868474Z"
    }
   },
   "outputs": [
    {
     "data": {
      "text/plain": [
       "[(b'Y', 50.0),\n",
       " (b'X', 49.0),\n",
       " (b'W', 48.0),\n",
       " (b'V', 47.0),\n",
       " (b'U', 46.0),\n",
       " (b'T', 45.0)]"
      ]
     },
     "execution_count": 130,
     "metadata": {},
     "output_type": "execute_result"
    }
   ],
   "source": [
    "client.zrevrange(name,0,5,withscores=True)"
   ]
  },
  {
   "cell_type": "code",
   "execution_count": 131,
   "id": "e8ccaa48",
   "metadata": {
    "ExecuteTime": {
     "end_time": "2022-03-25T04:22:21.825374Z",
     "start_time": "2022-03-25T04:22:21.821704Z"
    }
   },
   "outputs": [
    {
     "data": {
      "text/plain": [
       "[(b'h', 7.0),\n",
       " (b'i', 8.0),\n",
       " (b'j', 9.0),\n",
       " (b'k', 10.0),\n",
       " (b'l', 11.0),\n",
       " (b'm', 12.0)]"
      ]
     },
     "execution_count": 131,
     "metadata": {},
     "output_type": "execute_result"
    }
   ],
   "source": [
    "client.zrange(name,0,5,withscores=True)"
   ]
  },
  {
   "cell_type": "code",
   "execution_count": null,
   "id": "45428afe",
   "metadata": {},
   "outputs": [],
   "source": []
  }
 ],
 "metadata": {
  "kernelspec": {
   "display_name": "Python [conda env:redis-notebooks]",
   "language": "python",
   "name": "conda-env-redis-notebooks-py"
  },
  "language_info": {
   "codemirror_mode": {
    "name": "ipython",
    "version": 3
   },
   "file_extension": ".py",
   "mimetype": "text/x-python",
   "name": "python",
   "nbconvert_exporter": "python",
   "pygments_lexer": "ipython3",
   "version": "3.10.0"
  },
  "toc": {
   "base_numbering": 1,
   "nav_menu": {},
   "number_sections": true,
   "sideBar": true,
   "skip_h1_title": false,
   "title_cell": "Table of Contents",
   "title_sidebar": "Contents",
   "toc_cell": false,
   "toc_position": {},
   "toc_section_display": true,
   "toc_window_display": false
  }
 },
 "nbformat": 4,
 "nbformat_minor": 5
}
